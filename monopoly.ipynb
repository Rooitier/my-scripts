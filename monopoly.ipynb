{
 "cells": [
  {
   "cell_type": "code",
   "execution_count": 1,
   "source": [
    "#!/usr/bin/env python3\r\n",
    "\r\n",
    "# Author: Dario Trinchero\r\n",
    "\r\n",
    "import numpy as np\r\n",
    "from numpy import linalg as la\r\n",
    "import matplotlib.pyplot as plt\r\n",
    "import matplotlib.animation as anim\r\n",
    "from IPython.display import HTML\r\n",
    "\r\n",
    "# NOTE Written for Python3, Numpy 1.16.3, & Matplotlib 3.0.3\r\n",
    "\r\n",
    "final_roll = 80\r\n",
    "\r\n",
    "def jump_to(A, f, t, p):\r\n",
    "    ''' Add a transition to transition matrix A from state(s) f to state t with probability p.\r\n",
    "    All transitions to any state should be added before adding a transition from that state. '''\r\n",
    "    try:\r\n",
    "        for state in f: A[t, :] += p * A[state, :]\r\n",
    "    except TypeError: A[t, :] += p * A[f, :]\r\n",
    "\r\n",
    "def add_jumps(A):\r\n",
    "    ''' Add transitions to matrix A for each jump from one tile to another according to the rules\r\n",
    "    of US Standard 2008 Edition of Monopoly, assuming A already has dice roll transitions. '''\r\n",
    "    # \"Go to Jail\" tile\r\n",
    "    jump_to(A, 30, 10, 1)\r\n",
    "    A[30, :] *= 0\r\n",
    "\r\n",
    "    # Chance cards\r\n",
    "    jump_to(A, [7, 22, 36], 10, 1.0 / 16) # -> Jail\r\n",
    "    jump_to(A, [7, 22, 36], 0, 1.0 / 16)  # -> Start\r\n",
    "    jump_to(A, [7, 22, 36], 24, 1.0 / 16) # -> Illinois Ave\r\n",
    "    jump_to(A, [7, 22, 36], 11, 1.0 / 16) # -> St. Charles Place\r\n",
    "    jump_to(A, 7, 12, 1.0 / 16)           # -> Nearest utility\r\n",
    "    jump_to(A, [22, 36], 28, 1.0 / 16)    # -> Nearest utility\r\n",
    "    jump_to(A, 7, 5, 1.0 / 16)            # -> Nearest railroad\r\n",
    "    jump_to(A, 22, 25, 1.0 / 16)          # -> Nearest railroad\r\n",
    "    jump_to(A, 36, 35, 1.0 / 16)          # -> Nearest railroad\r\n",
    "    jump_to(A, [7, 22, 36], 5, 1.0 / 16)  # -> Reading Railroad\r\n",
    "    jump_to(A, [7, 22, 36], 39, 1.0 / 16) # -> Boardwalk\r\n",
    "    jump_to(A, 7, 4, 1.0 / 16)            # <- Back 3 spaces\r\n",
    "    jump_to(A, 22, 19, 1.0 / 16)          # <- Back 3 spaces\r\n",
    "    jump_to(A, 36, 33, 1.0 / 16)          # <- Back 3 spaces (-> Community Chest)\r\n",
    "\r\n",
    "    # Ending on Chance tiles\r\n",
    "    A[7, :] *= 7.0 / 16\r\n",
    "    A[22, :] *= 7.0 / 16\r\n",
    "    A[36, :] *= 7.0 / 16\r\n",
    "\r\n",
    "    # Community Chests\r\n",
    "    jump_to(A, [2, 17, 33], 10, 1.0 / 17) # -> Jail\r\n",
    "    jump_to(A, [2, 17, 33], 0, 1.0 / 17)  # -> Start\r\n",
    "\r\n",
    "    # Ending on Community Chest tiles\r\n",
    "    A[2, :] *= 15.0 / 17\r\n",
    "    A[17, :] *= 15.0 / 17\r\n",
    "    A[33, :] *= 15.0 / 17\r\n",
    "\r\n",
    "def transition_matrix():\r\n",
    "    ''' Create transition matrix representing all movements from one tile to another in US\r\n",
    "    Standard 2008 Edition of Monopoly. '''\r\n",
    "    A = np.block([[np.zeros((1, 28)), np.array([[1, 2, 3, 4, 5, 6, 5, 4, 3, 2, 1, 0]])],\r\n",
    "        [np.zeros((39, 40))]]) / 36\r\n",
    "    for j in range(39): A[j + 1, :] = np.concatenate(([A[j, -1]], A[j, :-1]))\r\n",
    "    add_jumps(A)\r\n",
    "    return A\r\n",
    "\r\n",
    "def animate(A, p0, rolls, delay=50, limit=True):\r\n",
    "    ''' Animate evolution of the probability distribution p0 for given number of rolls (transitions)\r\n",
    "    and transition matrix A. If limit is True, also show limiting probability distribution (obtained\r\n",
    "    as normalized eigenvector of A for eigenvalue 1) after animation completes. '''\r\n",
    "    fig = plt.figure()\r\n",
    "    line, = plt.plot(np.arange(40), p0, 'k.-')\r\n",
    "\r\n",
    "    plt.title('Rolls: 0')\r\n",
    "    plt.xlabel('Position')\r\n",
    "    plt.ylabel('Probability')\r\n",
    "    plt.xlim(-1, 40)\r\n",
    "    plt.ylim(0, 0.1)\r\n",
    "    plt.minorticks_on()\r\n",
    "    plt.grid(True, which='both')\r\n",
    "\r\n",
    "    def update(frame):\r\n",
    "        nonlocal A, p0, line, limit\r\n",
    "        line.set_data(np.arange(40), p0)\r\n",
    "        plt.title('Rolls: ' + str(frame))\r\n",
    "        if frame > 0: p0[:] = A.dot(p0) # p0[:] ensures external array is changed\r\n",
    "\r\n",
    "        if frame == rolls and limit:\r\n",
    "            v = np.real(la.eig(A)[1][:, 0])\r\n",
    "            plt.plot(v / np.sum(v), 'ko', fillstyle='none', markersize=8)\r\n",
    "\r\n",
    "    ani = anim.FuncAnimation(fig, update, rolls + 1, interval=delay, blit=False, repeat=False)\r\n",
    "    HTML(ani.to_html5_video())\r\n",
    "    plt.show()\r\n",
    "\r\n",
    "if __name__ == '__main__':\r\n",
    "    # Initialize p0 and A\r\n",
    "    p0 = np.block([[np.array([[1]])], [np.zeros((39, 1))]])\r\n",
    "    A = transition_matrix()\r\n",
    "\r\n",
    "    # Run animation\r\n",
    "    animate(A, p0, final_roll, delay=50, limit=True)\r\n",
    "\r\n",
    "    # Check probability sum\r\n",
    "    print('Sum of probabilities: ' + str(np.around(np.sum(p0), decimals=8)))\r\n",
    " "
   ],
   "outputs": [
    {
     "output_type": "display_data",
     "data": {
      "image/png": "[encoded data removed]",
      "text/plain": [
       "<Figure size 432x288 with 1 Axes>"
      ]
     },
     "metadata": {
      "needs_background": "light"
     }
    },
    {
     "output_type": "stream",
     "name": "stdout",
     "text": [
      "Sum of probabilities: 1.0\n"
     ]
    }
   ],
   "metadata": {}
  },
  {
   "cell_type": "code",
   "execution_count": null,
   "source": [
    " "
   ],
   "outputs": [],
   "metadata": {}
  }
 ],
 "metadata": {
  "orig_nbformat": 4,
  "language_info": {
   "name": "python",
   "version": "3.8.8",
   "mimetype": "text/x-python",
   "codemirror_mode": {
    "name": "ipython",
    "version": 3
   },
   "pygments_lexer": "ipython3",
   "nbconvert_exporter": "python",
   "file_extension": ".py"
  },
  "kernelspec": {
   "name": "python3",
   "display_name": "Python 3.8.8 64-bit ('base': conda)"
  },
  "interpreter": {
   "hash": "2ac76aed366666d06b2dbc895d6cbcaff40415eb429273b629a6c397735c7c04"
  }
 },
 "nbformat": 4,
 "nbformat_minor": 2
}